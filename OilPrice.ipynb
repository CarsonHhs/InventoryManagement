{
  "nbformat": 4,
  "nbformat_minor": 0,
  "metadata": {
    "colab": {
      "name": "OilPrice.ipynb",
      "provenance": [],
      "mount_file_id": "1IQSmfd3pj1tWj8qr9y5W-RkbpwyPiNnU",
      "authorship_tag": "ABX9TyOZ+w9AKNvFaNa4DBKhJZ+c",
      "include_colab_link": true
    },
    "kernelspec": {
      "name": "python3",
      "display_name": "Python 3"
    },
    "language_info": {
      "name": "python"
    }
  },
  "cells": [
    {
      "cell_type": "markdown",
      "metadata": {
        "id": "view-in-github",
        "colab_type": "text"
      },
      "source": [
        "<a href=\"https://colab.research.google.com/github/CarsonHhs/InventoryManagement/blob/main/OilPrice.ipynb\" target=\"_parent\"><img src=\"https://colab.research.google.com/assets/colab-badge.svg\" alt=\"Open In Colab\"/></a>"
      ]
    },
    {
      "cell_type": "code",
      "metadata": {
        "id": "AVRRas3Oo-_u"
      },
      "source": [
        "import pandas as pd\n",
        "import numpy as np\n",
        "import matplotlib.pyplot as plt\n",
        "\n",
        "import math\n",
        "\n",
        "from sklearn.preprocessing import MinMaxScaler\n",
        "from sklearn.metrics import mean_squared_error\n",
        "\n",
        "from keras.models import Sequential\n",
        "from keras.layers import Dense, Activation, Dropout\n",
        "from keras.layers import LSTM"
      ],
      "execution_count": 63,
      "outputs": []
    },
    {
      "cell_type": "code",
      "metadata": {
        "id": "4bHCO6KU6Gm9"
      },
      "source": [
        "#output = activation(dot(input, kernel) + bias)\n",
        "\n",
        "def new_dataset(dataset, step_size):\n",
        "    data_X, data_Y = [], []\n",
        "    for i in range(len(dataset)-step_size-1):\n",
        "        a = dataset[i:(i+step_size), 0]\n",
        "        data_X.append(a)\n",
        "        data_Y.append(dataset[i + step_size, 0])\n",
        "    return np.array(data_X), np.array(data_Y)"
      ],
      "execution_count": 64,
      "outputs": []
    },
    {
      "cell_type": "code",
      "metadata": {
        "id": "cgKT5H_04OxI"
      },
      "source": [
        "df = pd.read_csv('/content/drive/MyDrive/Colab/Price.csv')"
      ],
      "execution_count": 65,
      "outputs": []
    },
    {
      "cell_type": "code",
      "metadata": {
        "id": "Sw2qmea96o1O"
      },
      "source": [
        "df['Date'] = pd.to_datetime(df['Date'])\n",
        "#df = df.reindex(index= df.index[::-1])"
      ],
      "execution_count": 66,
      "outputs": []
    },
    {
      "cell_type": "code",
      "metadata": {
        "colab": {
          "base_uri": "https://localhost:8080/"
        },
        "id": "Kz9ODflW76q6",
        "outputId": "ad2fede0-ffe0-4aa9-9d98-bf6b6543a893"
      },
      "source": [
        "zaman = np.arange(1, len(df) + 1, 1)\n",
        "OHCL_avg = df.mean(axis=1)"
      ],
      "execution_count": 67,
      "outputs": [
        {
          "output_type": "stream",
          "text": [
            "/usr/local/lib/python3.7/dist-packages/ipykernel_launcher.py:2: FutureWarning: DataFrame.mean and DataFrame.median with numeric_only=None will include datetime64 and datetime64tz columns in a future version.\n",
            "  \n"
          ],
          "name": "stderr"
        }
      ]
    },
    {
      "cell_type": "code",
      "metadata": {
        "id": "Jeu6DCS38GjW"
      },
      "source": [
        "OHCL_avg = np.reshape(OHCL_avg.values, (len(OHCL_avg),1)) \n",
        "scaler = MinMaxScaler(feature_range=(0,1))\n",
        "OHCL_avg = scaler.fit_transform(OHCL_avg)"
      ],
      "execution_count": 68,
      "outputs": []
    },
    {
      "cell_type": "code",
      "metadata": {
        "id": "7PGB0iff9QMD"
      },
      "source": [
        "#print(OHCL_avg)\n",
        "train_OHLC = int(len(OHCL_avg)*0.56)\n",
        "test_OHLC = len(OHCL_avg) - train_OHLC\n",
        "\n",
        "train_OHLC, test_OHLC = OHCL_avg[0:train_OHLC,:], OHCL_avg[train_OHLC:len(OHCL_avg),:]"
      ],
      "execution_count": 69,
      "outputs": []
    },
    {
      "cell_type": "code",
      "metadata": {
        "id": "6QsInfxa_ZUU"
      },
      "source": [
        "#Train the datasets and test it\n",
        "trainX, trainY = new_dataset(train_OHLC,1)\n",
        "testX, testY = new_dataset(test_OHLC,1)"
      ],
      "execution_count": 70,
      "outputs": []
    },
    {
      "cell_type": "code",
      "metadata": {
        "id": "s4z1FbCUAiCn"
      },
      "source": [
        "trainX = np.reshape(trainX, (trainX.shape[0],1,trainX.shape[1]))\n",
        "testX = np.reshape(testX, (testX.shape[0],1,testX.shape[1]))\n",
        "step_size = 1"
      ],
      "execution_count": 71,
      "outputs": []
    },
    {
      "cell_type": "code",
      "metadata": {
        "id": "XmtOx2s9-Hj6"
      },
      "source": [
        "model = Sequential()\n",
        "model.add(LSTM(128, input_shape=(1, step_size)))\n",
        "model.add(Dropout(0.1))\n",
        "model.add(Dense(1))\n",
        "model.add(Activation('linear'))"
      ],
      "execution_count": 72,
      "outputs": []
    },
    {
      "cell_type": "code",
      "metadata": {
        "colab": {
          "base_uri": "https://localhost:8080/"
        },
        "id": "0mRbQLNeBmDV",
        "outputId": "f2a2ff23-ccf6-4e43-d8f8-10821fd64786"
      },
      "source": [
        "model.compile(loss='mean_squared_error', optimizer='adam')\n",
        "model.fit(trainX, trainY, epochs=10, batch_size=25, verbose=2)"
      ],
      "execution_count": 73,
      "outputs": [
        {
          "output_type": "stream",
          "text": [
            "Epoch 1/10\n",
            "10/10 - 2s - loss: 0.0119\n",
            "Epoch 2/10\n",
            "10/10 - 0s - loss: 0.0063\n",
            "Epoch 3/10\n",
            "10/10 - 0s - loss: 0.0046\n",
            "Epoch 4/10\n",
            "10/10 - 0s - loss: 0.0046\n",
            "Epoch 5/10\n",
            "10/10 - 0s - loss: 0.0044\n",
            "Epoch 6/10\n",
            "10/10 - 0s - loss: 0.0040\n",
            "Epoch 7/10\n",
            "10/10 - 0s - loss: 0.0038\n",
            "Epoch 8/10\n",
            "10/10 - 0s - loss: 0.0036\n",
            "Epoch 9/10\n",
            "10/10 - 0s - loss: 0.0033\n",
            "Epoch 10/10\n",
            "10/10 - 0s - loss: 0.0032\n"
          ],
          "name": "stdout"
        },
        {
          "output_type": "execute_result",
          "data": {
            "text/plain": [
              "<keras.callbacks.History at 0x7fe3c142c3d0>"
            ]
          },
          "metadata": {
            "tags": []
          },
          "execution_count": 73
        }
      ]
    },
    {
      "cell_type": "code",
      "metadata": {
        "id": "6Xlmyb2vB6hJ"
      },
      "source": [
        "trainPredict = model.predict(trainX)\n",
        "testPredict = model.predict(testX)\n",
        "\n",
        "trainPredict = scaler.inverse_transform(trainPredict)\n",
        "trainY = scaler.inverse_transform([trainY])\n",
        "testPredict = scaler.inverse_transform(testPredict)\n",
        "\n",
        "testY = scaler.inverse_transform([testY])"
      ],
      "execution_count": 74,
      "outputs": []
    },
    {
      "cell_type": "code",
      "metadata": {
        "id": "Au3T7xicCDen"
      },
      "source": [
        "trainScore = math.sqrt(mean_squared_error(trainY[0], \n",
        "                       trainPredict[:,0]))\n",
        "testScore = math.sqrt(mean_squared_error(testY[0], \n",
        "                       testPredict[:,0]))"
      ],
      "execution_count": 75,
      "outputs": []
    },
    {
      "cell_type": "code",
      "metadata": {
        "id": "0Ar3jnYOCJ8L"
      },
      "source": [
        "trainPredictPlot = np.empty_like(OHCL_avg)\n",
        "trainPredictPlot[:,:] = np.nan\n",
        "trainPredictPlot[step_size:len(trainPredict)+step_size,:] = trainPredict"
      ],
      "execution_count": 76,
      "outputs": []
    },
    {
      "cell_type": "code",
      "metadata": {
        "id": "GuG3JLMzCQvo"
      },
      "source": [
        "testPredictPlot = np.empty_like(OHCL_avg)\n",
        "testPredictPlot[:,:] = np.nan\n",
        "testPredictPlot[len(trainPredict)+(step_size*2)+1:len(OHCL_avg)-1,:] = testPredict"
      ],
      "execution_count": 77,
      "outputs": []
    },
    {
      "cell_type": "code",
      "metadata": {
        "colab": {
          "base_uri": "https://localhost:8080/",
          "height": 353
        },
        "id": "61Yoy0PyCYvK",
        "outputId": "20783098-1c4e-4e5c-ff11-f5a022a7429c"
      },
      "source": [
        "plt.figure(figsize=(15, 5))\n",
        "\n",
        "OHCL_avg = scaler.inverse_transform(OHCL_avg)\n",
        "\n",
        "plt.plot(OHCL_avg, 'g', label='Orginal Dataset')\n",
        "plt.plot(trainPredictPlot, 'r', label='Training Set')\n",
        "plt.plot(testPredictPlot, 'b', label='Predicted price/test set')\n",
        "plt.title(\" Oil Predicted Prices\")\n",
        "plt.xlabel(' Time', fontsize=12)\n",
        "plt.ylabel('Price', fontsize=12)\n",
        "plt.legend(loc='upper right')\n",
        "plt.show()"
      ],
      "execution_count": 83,
      "outputs": [
        {
          "output_type": "display_data",
          "data": {
            "image/png": "[encoded data removed]",
            "text/plain": [
              "<Figure size 1080x360 with 1 Axes>"
            ]
          },
          "metadata": {
            "tags": [],
            "needs_background": "light"
          }
        }
      ]
    }
  ]
}